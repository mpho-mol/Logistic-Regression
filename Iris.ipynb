{
 "cells": [
  {
   "cell_type": "code",
   "execution_count": 9,
   "id": "62109ce8",
   "metadata": {},
   "outputs": [],
   "source": [
    "import pandas as pd\n",
    "import numpy as np\n",
    "from sklearn.model_selection import train_test_split\n",
    "from sklearn.linear_model import LogisticRegression\n",
    "from sklearn.metrics import confusion_matrix, accuracy_score, precision_score, recall_score \n"
   ]
  },
  {
   "cell_type": "code",
   "execution_count": 10,
   "id": "be80ede4",
   "metadata": {},
   "outputs": [
    {
     "data": {
      "text/html": [
       "<div>\n",
       "<style scoped>\n",
       "    .dataframe tbody tr th:only-of-type {\n",
       "        vertical-align: middle;\n",
       "    }\n",
       "\n",
       "    .dataframe tbody tr th {\n",
       "        vertical-align: top;\n",
       "    }\n",
       "\n",
       "    .dataframe thead th {\n",
       "        text-align: right;\n",
       "    }\n",
       "</style>\n",
       "<table border=\"1\" class=\"dataframe\">\n",
       "  <thead>\n",
       "    <tr style=\"text-align: right;\">\n",
       "      <th></th>\n",
       "      <th>Id</th>\n",
       "      <th>SepalLengthCm</th>\n",
       "      <th>SepalWidthCm</th>\n",
       "      <th>PetalLengthCm</th>\n",
       "      <th>PetalWidthCm</th>\n",
       "      <th>Species</th>\n",
       "    </tr>\n",
       "  </thead>\n",
       "  <tbody>\n",
       "    <tr>\n",
       "      <th>0</th>\n",
       "      <td>1</td>\n",
       "      <td>5.1</td>\n",
       "      <td>3.5</td>\n",
       "      <td>1.4</td>\n",
       "      <td>0.2</td>\n",
       "      <td>Iris-setosa</td>\n",
       "    </tr>\n",
       "    <tr>\n",
       "      <th>1</th>\n",
       "      <td>2</td>\n",
       "      <td>4.9</td>\n",
       "      <td>3.0</td>\n",
       "      <td>1.4</td>\n",
       "      <td>0.2</td>\n",
       "      <td>Iris-setosa</td>\n",
       "    </tr>\n",
       "    <tr>\n",
       "      <th>2</th>\n",
       "      <td>3</td>\n",
       "      <td>4.7</td>\n",
       "      <td>3.2</td>\n",
       "      <td>1.3</td>\n",
       "      <td>0.2</td>\n",
       "      <td>Iris-setosa</td>\n",
       "    </tr>\n",
       "    <tr>\n",
       "      <th>3</th>\n",
       "      <td>4</td>\n",
       "      <td>4.6</td>\n",
       "      <td>3.1</td>\n",
       "      <td>1.5</td>\n",
       "      <td>0.2</td>\n",
       "      <td>Iris-setosa</td>\n",
       "    </tr>\n",
       "    <tr>\n",
       "      <th>4</th>\n",
       "      <td>5</td>\n",
       "      <td>5.0</td>\n",
       "      <td>3.6</td>\n",
       "      <td>1.4</td>\n",
       "      <td>0.2</td>\n",
       "      <td>Iris-setosa</td>\n",
       "    </tr>\n",
       "  </tbody>\n",
       "</table>\n",
       "</div>"
      ],
      "text/plain": [
       "   Id  SepalLengthCm  SepalWidthCm  PetalLengthCm  PetalWidthCm      Species\n",
       "0   1            5.1           3.5            1.4           0.2  Iris-setosa\n",
       "1   2            4.9           3.0            1.4           0.2  Iris-setosa\n",
       "2   3            4.7           3.2            1.3           0.2  Iris-setosa\n",
       "3   4            4.6           3.1            1.5           0.2  Iris-setosa\n",
       "4   5            5.0           3.6            1.4           0.2  Iris-setosa"
      ]
     },
     "execution_count": 10,
     "metadata": {},
     "output_type": "execute_result"
    }
   ],
   "source": [
    "# Load the dataset from iris.csv\n",
    "df = pd.read_csv('Iris.csv')\n",
    "\n",
    "# Display the first few rows of the dataset\n",
    "df.head()\n"
   ]
  },
  {
   "cell_type": "code",
   "execution_count": 11,
   "id": "012d39e9",
   "metadata": {},
   "outputs": [],
   "source": [
    "# Identify the independent variables X and dependent variable y\n",
    "X = df.drop('Species', axis=1)"
   ]
  },
  {
   "cell_type": "code",
   "execution_count": 12,
   "id": "befc66b7",
   "metadata": {},
   "outputs": [
    {
     "name": "stdout",
     "output_type": "stream",
     "text": [
      "   Id  SepalLengthCm  SepalWidthCm  PetalLengthCm  PetalWidthCm  target\n",
      "0   1            5.1           3.5            1.4           0.2       0\n",
      "1   2            4.9           3.0            1.4           0.2       0\n",
      "2   3            4.7           3.2            1.3           0.2       0\n",
      "3   4            4.6           3.1            1.5           0.2       0\n",
      "4   5            5.0           3.6            1.4           0.2       0\n"
     ]
    }
   ],
   "source": [
    "# Encode the dependent variable 'species' using mapping\n",
    "species_mapping = {'Iris-setosa': 0, 'Iris-versicolor': 1, 'Iris-virginica': 1}\n",
    "df['target'] = df['Species'].replace(species_mapping)\n",
    "\n",
    "# Drop the original 'species' column\n",
    "df.drop(['Species'], axis=1, inplace=True)\n",
    "\n",
    "# Separate the independent variables (x) and the dependent variable (y)\n",
    "x = df.drop(['target'], axis=1)\n",
    "y = df['target']\n",
    "\n",
    "# Show the DataFrame with the target column encoded as 0 and 1\n",
    "print(df.head())"
   ]
  },
  {
   "cell_type": "code",
   "execution_count": 14,
   "id": "d78c5640",
   "metadata": {},
   "outputs": [],
   "source": [
    "# Split the dataset into training and test sets\n",
    "X_train, X_test, y_train, y_test = train_test_split(X, y, test_size=0.2, random_state=42)\n"
   ]
  },
  {
   "cell_type": "code",
   "execution_count": 15,
   "id": "16eb8685",
   "metadata": {},
   "outputs": [],
   "source": [
    "# Create a logistic regression model\n",
    "model = LogisticRegression()\n",
    "\n",
    "# Fit the model on the training data\n",
    "model.fit(X_train, y_train)\n",
    "\n",
    "# Make predictions on the test set\n",
    "y_pred = model.predict(X_test)\n"
   ]
  },
  {
   "cell_type": "code",
   "execution_count": 16,
   "id": "6c46056c",
   "metadata": {},
   "outputs": [
    {
     "name": "stdout",
     "output_type": "stream",
     "text": [
      "[[10  0]\n",
      " [ 0 20]]\n"
     ]
    }
   ],
   "source": [
    "# Generate a confusion matrix\n",
    "confusion_mat = confusion_matrix(y_test, y_pred)\n",
    "print(confusion_mat)\n"
   ]
  },
  {
   "cell_type": "markdown",
   "id": "1fad99a4",
   "metadata": {},
   "source": [
    "Analyze the confusion matrix to make predictions about precision and recall\n",
    "Since we are predicting 'Iris-setosa' as class 0 and 'Iris-versicolor'/'Iris-virginica' as class 1, we are interested in the values in the first row of the confusion matrix.\n",
    "The first row represents the 'Iris-setosa' class, and the second row represents the 'Iris-versicolor'/'Iris-virginica' class.\n",
    "\n",
    "True Positives (TP) = 10 (correctly predicted 'Iris-setosa')\n",
    "True Negatives (TN) = 20 (correctly predicted 'Iris-versicolor'/'Iris-virginica')\n",
    "False Positives (FP) = 0 (incorrectly predicted 'Iris-versicolor'/'Iris-virginica' as 'Iris-setosa')\n",
    "False Negatives (FN) = 0 (incorrectly predicted 'Iris-setosa' as 'Iris-versicolor'/'Iris-virginica')\n",
    "\n",
    "Precision:\n",
    "Precision = TP / (TP + FP) = 10 / (10 + 0) = 1.0\n",
    "\n",
    "Recall:\n",
    "Recall = TP / (TP + FN) = 10 / (10 + 0) = 1.0\n",
    "\n",
    "Precision: The model has perfect precision because there are no false positives (FP=0). So when the model predicts a data point as 'Iris-setosa' (class 0), it is correct at all times. The model has higher precision for the 'Iris-setosa' class.\n",
    "\n",
    "Recall: The model has perfect recall because there are no false negatives (FN=0). This means that the model correctly identifies all the 'Iris-setosa' samples, and there are no instances of 'Iris-setosa' being incorrectly classified as 'Iris-versicolor'/'Iris-virginica'. The model has higher recall for the 'Iris-setosa' class."
   ]
  },
  {
   "cell_type": "code",
   "execution_count": 17,
   "id": "9a244b0a",
   "metadata": {},
   "outputs": [
    {
     "name": "stdout",
     "output_type": "stream",
     "text": [
      "Accuracy: 1.0\n",
      "Precision: 1.0\n",
      "Recall: 1.0\n"
     ]
    }
   ],
   "source": [
    "# Calculate precision, recall, and accuracy using my own code\n",
    "accuracy = (confusion_mat[0, 0] + confusion_mat[1, 1]) / confusion_mat.sum()\n",
    "precision = confusion_mat[1, 1] / (confusion_mat[0, 1] + confusion_mat[1, 1])\n",
    "recall = confusion_mat[1, 1] / (confusion_mat[1, 0] + confusion_mat[1, 1])\n",
    "\n",
    "print(\"Accuracy:\", accuracy)\n",
    "print(\"Precision:\", precision)\n",
    "print(\"Recall:\", recall)\n"
   ]
  },
  {
   "cell_type": "code",
   "execution_count": 18,
   "id": "58e04a9c",
   "metadata": {},
   "outputs": [],
   "source": [
    "# Confirm accuracy, precision, and recall written with own code\n",
    "accuracy = accuracy_score(y_test, y_pred)\n",
    "precision = precision_score(y_test, y_pred)\n",
    "recall = recall_score(y_test, y_pred)\n"
   ]
  },
  {
   "cell_type": "code",
   "execution_count": 19,
   "id": "7e7569d8",
   "metadata": {},
   "outputs": [
    {
     "name": "stdout",
     "output_type": "stream",
     "text": [
      "Confusion Matrix:\n",
      "[[10  0]\n",
      " [ 0 20]]\n",
      "Accuracy: 1.0\n",
      "Precision: 1.0\n",
      "Recall: 1.0\n"
     ]
    }
   ],
   "source": [
    "# Print the confusion matrix, accuracy, precision, and recall\n",
    "print(\"Confusion Matrix:\")\n",
    "print(confusion_mat)\n",
    "print(\"Accuracy:\", accuracy)\n",
    "print(\"Precision:\", precision)\n",
    "print(\"Recall:\", recall)"
   ]
  },
  {
   "cell_type": "markdown",
   "id": "1f1619c4",
   "metadata": {},
   "source": [
    "Therefore own code is correct."
   ]
  }
 ],
 "metadata": {
  "kernelspec": {
   "display_name": "Python 3 (ipykernel)",
   "language": "python",
   "name": "python3"
  },
  "language_info": {
   "codemirror_mode": {
    "name": "ipython",
    "version": 3
   },
   "file_extension": ".py",
   "mimetype": "text/x-python",
   "name": "python",
   "nbconvert_exporter": "python",
   "pygments_lexer": "ipython3",
   "version": "3.10.9"
  }
 },
 "nbformat": 4,
 "nbformat_minor": 5
}
